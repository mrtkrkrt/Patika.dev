{
 "cells": [
  {
   "cell_type": "markdown",
   "metadata": {},
   "source": [
    "## Insertion Sort Algorithm with Python"
   ]
  },
  {
   "cell_type": "code",
   "execution_count": 21,
   "metadata": {},
   "outputs": [],
   "source": [
    "def insertion_sort(unsorted_list):\n",
    "    print(\"Sıralama Adımları\")\n",
    "    for idx, i in enumerate(unsorted_list):\n",
    "        if idx > 0 and i < unsorted_list[idx - 1]:\n",
    "            j = idx\n",
    "            while j > 0:\n",
    "                if unsorted_list[j] < unsorted_list[j-1]:\n",
    "                    temp = unsorted_list[j-1]\n",
    "                    unsorted_list[j-1] = unsorted_list[j]\n",
    "                    unsorted_list[j] = temp\n",
    "                j -= 1\n",
    "            print(unsorted_list)"
   ]
  },
  {
   "cell_type": "code",
   "execution_count": 22,
   "metadata": {},
   "outputs": [
    {
     "name": "stdout",
     "output_type": "stream",
     "text": [
      "Sıralama Adımları\n",
      "[16, 22, 27, 2, 18, 6]\n",
      "[2, 16, 22, 27, 18, 6]\n",
      "[2, 16, 18, 22, 27, 6]\n",
      "[2, 6, 16, 18, 22, 27]\n"
     ]
    }
   ],
   "source": [
    "unsorted_list = [22,27,16,2,18,6]\n",
    "insertion_sort(unsorted_list)"
   ]
  },
  {
   "cell_type": "markdown",
   "metadata": {},
   "source": [
    "### Big-O => O(n^2)\n",
    "18 Average Case Kapsamına Girer"
   ]
  },
  {
   "cell_type": "code",
   "execution_count": 23,
   "metadata": {},
   "outputs": [
    {
     "name": "stdout",
     "output_type": "stream",
     "text": [
      "Sıralama Adımları\n",
      "[3, 7, 5, 8, 2, 9, 4, 15, 6]\n",
      "[3, 5, 7, 8, 2, 9, 4, 15, 6]\n",
      "[2, 3, 5, 7, 8, 9, 4, 15, 6]\n",
      "[2, 3, 4, 5, 7, 8, 9, 15, 6]\n",
      "[2, 3, 4, 5, 6, 7, 8, 9, 15]\n"
     ]
    }
   ],
   "source": [
    "unsorted_list = [7,3,5,8,2,9,4,15,6]\n",
    "insertion_sort(unsorted_list)"
   ]
  },
  {
   "cell_type": "code",
   "execution_count": null,
   "metadata": {},
   "outputs": [],
   "source": []
  }
 ],
 "metadata": {
  "interpreter": {
   "hash": "3e8ecf0c97bcee6d341ce8ae2f9329b0fc8fb7d986a720da3bc456d7b080dbfb"
  },
  "kernelspec": {
   "display_name": "Python 3.8.8 64-bit ('base': conda)",
   "language": "python",
   "name": "python3"
  },
  "language_info": {
   "codemirror_mode": {
    "name": "ipython",
    "version": 3
   },
   "file_extension": ".py",
   "mimetype": "text/x-python",
   "name": "python",
   "nbconvert_exporter": "python",
   "pygments_lexer": "ipython3",
   "version": "3.8.8"
  },
  "orig_nbformat": 4
 },
 "nbformat": 4,
 "nbformat_minor": 2
}
