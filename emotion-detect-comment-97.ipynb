{
 "cells": [
  {
   "cell_type": "code",
   "execution_count": 1,
   "id": "e88fb434",
   "metadata": {
    "_cell_guid": "b1076dfc-b9ad-4769-8c92-a6c4dae69d19",
    "_uuid": "8f2839f25d086af736a60e9eeb907d3b93b6e0e5",
    "execution": {
     "iopub.execute_input": "2021-07-30T15:55:22.461852Z",
     "iopub.status.busy": "2021-07-30T15:55:22.461145Z",
     "iopub.status.idle": "2021-07-30T15:55:22.477161Z",
     "shell.execute_reply": "2021-07-30T15:55:22.476528Z",
     "shell.execute_reply.started": "2021-07-30T15:51:46.068206Z"
    },
    "papermill": {
     "duration": 0.128227,
     "end_time": "2021-07-30T15:55:22.477337",
     "exception": false,
     "start_time": "2021-07-30T15:55:22.349110",
     "status": "completed"
    },
    "tags": []
   },
   "outputs": [
    {
     "name": "stdout",
     "output_type": "stream",
     "text": [
      "/kaggle/input/emotions-dataset-for-nlp/val.txt\n",
      "/kaggle/input/emotions-dataset-for-nlp/test.txt\n",
      "/kaggle/input/emotions-dataset-for-nlp/train.txt\n"
     ]
    }
   ],
   "source": [
    "# This Python 3 environment comes with many helpful analytics libraries installed\n",
    "# It is defined by the kaggle/python Docker image: https://github.com/kaggle/docker-python\n",
    "# For example, here's several helpful packages to load\n",
    "\n",
    "import numpy as np # linear algebra\n",
    "import pandas as pd # data processing, CSV file I/O (e.g. pd.read_csv)\n",
    "\n",
    "# Input data files are available in the read-only \"../input/\" directory\n",
    "# For example, running this (by clicking run or pressing Shift+Enter) will list all files under the input directory\n",
    "\n",
    "import os\n",
    "for dirname, _, filenames in os.walk('/kaggle/input'):\n",
    "    for filename in filenames:\n",
    "        print(os.path.join(dirname, filename))\n",
    "\n",
    "# You can write up to 20GB to the current directory (/kaggle/working/) that gets preserved as output when you create a version using \"Save & Run All\" \n",
    "# You can also write temporary files to /kaggle/temp/, but they won't be saved outside of the current session"
   ]
  },
  {
   "cell_type": "code",
   "execution_count": 2,
   "id": "ec206866",
   "metadata": {
    "execution": {
     "iopub.execute_input": "2021-07-30T15:55:22.527612Z",
     "iopub.status.busy": "2021-07-30T15:55:22.527076Z",
     "iopub.status.idle": "2021-07-30T15:55:22.630770Z",
     "shell.execute_reply": "2021-07-30T15:55:22.630179Z",
     "shell.execute_reply.started": "2021-07-30T15:51:49.309549Z"
    },
    "papermill": {
     "duration": 0.129591,
     "end_time": "2021-07-30T15:55:22.630946",
     "exception": false,
     "start_time": "2021-07-30T15:55:22.501355",
     "status": "completed"
    },
    "tags": []
   },
   "outputs": [],
   "source": [
    "test_data = pd.read_csv(\"../input/emotions-dataset-for-nlp/test.txt\", header=None, sep=\";\", names=[\"Comment\",\"Emotion\"], encoding=\"utf-8\")\n",
    "train_data = pd.read_csv(\"../input/emotions-dataset-for-nlp/train.txt\", header=None, sep=\";\", names=[\"Comment\",\"Emotion\"], encoding=\"utf-8\")\n",
    "validation_data = pd.read_csv(\"../input/emotions-dataset-for-nlp/val.txt\", header=None, sep=\";\", names=[\"Comment\",\"Emotion\"], encoding=\"utf-8\")"
   ]
  },
  {
   "cell_type": "code",
   "execution_count": 3,
   "id": "b9a4fc36",
   "metadata": {
    "execution": {
     "iopub.execute_input": "2021-07-30T15:55:22.679117Z",
     "iopub.status.busy": "2021-07-30T15:55:22.678391Z",
     "iopub.status.idle": "2021-07-30T15:55:22.681957Z",
     "shell.execute_reply": "2021-07-30T15:55:22.682740Z",
     "shell.execute_reply.started": "2021-07-30T15:51:50.193177Z"
    },
    "papermill": {
     "duration": 0.030665,
     "end_time": "2021-07-30T15:55:22.682947",
     "exception": false,
     "start_time": "2021-07-30T15:55:22.652282",
     "status": "completed"
    },
    "tags": []
   },
   "outputs": [
    {
     "name": "stdout",
     "output_type": "stream",
     "text": [
      "Train :  (16000, 2)\n",
      "Test :  (2000, 2)\n",
      "Validation :  (2000, 2)\n"
     ]
    }
   ],
   "source": [
    "print(\"Train : \", train_data.shape)\n",
    "print(\"Test : \", test_data.shape)\n",
    "print(\"Validation : \", validation_data.shape)"
   ]
  },
  {
   "cell_type": "code",
   "execution_count": 4,
   "id": "7d9b94da",
   "metadata": {
    "execution": {
     "iopub.execute_input": "2021-07-30T15:55:22.734110Z",
     "iopub.status.busy": "2021-07-30T15:55:22.733595Z",
     "iopub.status.idle": "2021-07-30T15:55:23.506339Z",
     "shell.execute_reply": "2021-07-30T15:55:23.505894Z",
     "shell.execute_reply.started": "2021-07-30T15:51:50.435525Z"
    },
    "papermill": {
     "duration": 0.797748,
     "end_time": "2021-07-30T15:55:23.506460",
     "exception": false,
     "start_time": "2021-07-30T15:55:22.708712",
     "status": "completed"
    },
    "tags": []
   },
   "outputs": [
    {
     "data": {
      "text/plain": [
       "'sns.set()\\nsns.countplot(train_data[\"Comment\"])\\nplt.show()'"
      ]
     },
     "execution_count": 4,
     "metadata": {},
     "output_type": "execute_result"
    }
   ],
   "source": [
    "import matplotlib.pyplot as plt\n",
    "import seaborn as sns\n",
    "\n",
    "\"\"\"sns.set()\n",
    "sns.countplot(train_data[\"Comment\"])\n",
    "plt.show()\"\"\""
   ]
  },
  {
   "cell_type": "code",
   "execution_count": 5,
   "id": "867651d7",
   "metadata": {
    "execution": {
     "iopub.execute_input": "2021-07-30T15:55:23.568079Z",
     "iopub.status.busy": "2021-07-30T15:55:23.567233Z",
     "iopub.status.idle": "2021-07-30T15:55:23.578104Z",
     "shell.execute_reply": "2021-07-30T15:55:23.577689Z",
     "shell.execute_reply.started": "2021-07-30T15:51:51.171682Z"
    },
    "papermill": {
     "duration": 0.049826,
     "end_time": "2021-07-30T15:55:23.578215",
     "exception": false,
     "start_time": "2021-07-30T15:55:23.528389",
     "status": "completed"
    },
    "tags": []
   },
   "outputs": [],
   "source": [
    "train_data[\"length\"] = [len(i) for i in train_data[\"Comment\"]]"
   ]
  },
  {
   "cell_type": "code",
   "execution_count": 6,
   "id": "480e96f1",
   "metadata": {
    "execution": {
     "iopub.execute_input": "2021-07-30T15:55:23.640014Z",
     "iopub.status.busy": "2021-07-30T15:55:23.639290Z",
     "iopub.status.idle": "2021-07-30T15:55:24.007535Z",
     "shell.execute_reply": "2021-07-30T15:55:24.007967Z",
     "shell.execute_reply.started": "2021-07-30T15:51:51.207309Z"
    },
    "papermill": {
     "duration": 0.408354,
     "end_time": "2021-07-30T15:55:24.008118",
     "exception": false,
     "start_time": "2021-07-30T15:55:23.599764",
     "status": "completed"
    },
    "tags": []
   },
   "outputs": [
    {
     "data": {
      "text/plain": [
       "[<matplotlib.lines.Line2D at 0x7eff84a2b990>]"
      ]
     },
     "execution_count": 6,
     "metadata": {},
     "output_type": "execute_result"
    },
    {
     "data": {
      "image/png": "[encoded data removed]",
      "text/plain": [
       "<Figure size 432x288 with 1 Axes>"
      ]
     },
     "metadata": {
      "needs_background": "light"
     },
     "output_type": "display_data"
    }
   ],
   "source": [
    "plt.plot(train_data[\"length\"], color = \"green\")"
   ]
  },
  {
   "cell_type": "code",
   "execution_count": 7,
   "id": "997ef9dd",
   "metadata": {
    "execution": {
     "iopub.execute_input": "2021-07-30T15:55:24.062053Z",
     "iopub.status.busy": "2021-07-30T15:55:24.061317Z",
     "iopub.status.idle": "2021-07-30T15:55:24.730521Z",
     "shell.execute_reply": "2021-07-30T15:55:24.739754Z",
     "shell.execute_reply.started": "2021-07-30T15:51:51.595012Z"
    },
    "papermill": {
     "duration": 0.708885,
     "end_time": "2021-07-30T15:55:24.740019",
     "exception": false,
     "start_time": "2021-07-30T15:55:24.031134",
     "status": "completed"
    },
    "tags": []
   },
   "outputs": [
    {
     "data": {
      "text/plain": [
       "<AxesSubplot:xlabel='length', ylabel='Density'>"
      ]
     },
     "execution_count": 7,
     "metadata": {},
     "output_type": "execute_result"
    },
    {
     "data": {
      "image/png": "[encoded data removed]",
      "text/plain": [
       "<Figure size 432x288 with 1 Axes>"
      ]
     },
     "metadata": {
      "needs_background": "light"
     },
     "output_type": "display_data"
    }
   ],
   "source": [
    "sns.kdeplot(x=train_data[\"length\"], hue=train_data[\"Emotion\"])"
   ]
  },
  {
   "cell_type": "markdown",
   "id": "50f310ac",
   "metadata": {
    "papermill": {
     "duration": 0.041057,
     "end_time": "2021-07-30T15:55:24.828652",
     "exception": false,
     "start_time": "2021-07-30T15:55:24.787595",
     "status": "completed"
    },
    "tags": []
   },
   "source": [
    "# # # ****Data Preprocessing****"
   ]
  },
  {
   "cell_type": "code",
   "execution_count": 8,
   "id": "f69099cd",
   "metadata": {
    "execution": {
     "iopub.execute_input": "2021-07-30T15:55:24.928363Z",
     "iopub.status.busy": "2021-07-30T15:55:24.927416Z",
     "iopub.status.idle": "2021-07-30T15:55:25.087559Z",
     "shell.execute_reply": "2021-07-30T15:55:25.086444Z",
     "shell.execute_reply.started": "2021-07-30T15:51:52.147340Z"
    },
    "papermill": {
     "duration": 0.212313,
     "end_time": "2021-07-30T15:55:25.087734",
     "exception": false,
     "start_time": "2021-07-30T15:55:24.875421",
     "status": "completed"
    },
    "tags": []
   },
   "outputs": [],
   "source": [
    "from sklearn.preprocessing import LabelEncoder\n",
    "lb = LabelEncoder()\n",
    "train_data[\"Emotion\"] = lb.fit_transform(train_data[\"Emotion\"])\n",
    "test_data[\"Emotion\"] = lb.fit_transform(test_data[\"Emotion\"])\n",
    "validation_data[\"Emotion\"] = lb.fit_transform(validation_data[\"Emotion\"])"
   ]
  },
  {
   "cell_type": "code",
   "execution_count": 9,
   "id": "0a278277",
   "metadata": {
    "execution": {
     "iopub.execute_input": "2021-07-30T15:55:25.181506Z",
     "iopub.status.busy": "2021-07-30T15:55:25.180346Z",
     "iopub.status.idle": "2021-07-30T15:55:25.192585Z",
     "shell.execute_reply": "2021-07-30T15:55:25.193579Z",
     "shell.execute_reply.started": "2021-07-30T15:51:52.267044Z"
    },
    "papermill": {
     "duration": 0.065495,
     "end_time": "2021-07-30T15:55:25.193755",
     "exception": false,
     "start_time": "2021-07-30T15:55:25.128260",
     "status": "completed"
    },
    "tags": []
   },
   "outputs": [
    {
     "data": {
      "text/html": [
       "<div>\n",
       "<style scoped>\n",
       "    .dataframe tbody tr th:only-of-type {\n",
       "        vertical-align: middle;\n",
       "    }\n",
       "\n",
       "    .dataframe tbody tr th {\n",
       "        vertical-align: top;\n",
       "    }\n",
       "\n",
       "    .dataframe thead th {\n",
       "        text-align: right;\n",
       "    }\n",
       "</style>\n",
       "<table border=\"1\" class=\"dataframe\">\n",
       "  <thead>\n",
       "    <tr style=\"text-align: right;\">\n",
       "      <th></th>\n",
       "      <th>Comment</th>\n",
       "      <th>Emotion</th>\n",
       "      <th>length</th>\n",
       "    </tr>\n",
       "  </thead>\n",
       "  <tbody>\n",
       "    <tr>\n",
       "      <th>0</th>\n",
       "      <td>i didnt feel humiliated</td>\n",
       "      <td>4</td>\n",
       "      <td>23</td>\n",
       "    </tr>\n",
       "    <tr>\n",
       "      <th>1</th>\n",
       "      <td>i can go from feeling so hopeless to so damned...</td>\n",
       "      <td>4</td>\n",
       "      <td>108</td>\n",
       "    </tr>\n",
       "    <tr>\n",
       "      <th>2</th>\n",
       "      <td>im grabbing a minute to post i feel greedy wrong</td>\n",
       "      <td>0</td>\n",
       "      <td>48</td>\n",
       "    </tr>\n",
       "    <tr>\n",
       "      <th>3</th>\n",
       "      <td>i am ever feeling nostalgic about the fireplac...</td>\n",
       "      <td>3</td>\n",
       "      <td>92</td>\n",
       "    </tr>\n",
       "    <tr>\n",
       "      <th>4</th>\n",
       "      <td>i am feeling grouchy</td>\n",
       "      <td>0</td>\n",
       "      <td>20</td>\n",
       "    </tr>\n",
       "  </tbody>\n",
       "</table>\n",
       "</div>"
      ],
      "text/plain": [
       "                                             Comment  Emotion  length\n",
       "0                            i didnt feel humiliated        4      23\n",
       "1  i can go from feeling so hopeless to so damned...        4     108\n",
       "2   im grabbing a minute to post i feel greedy wrong        0      48\n",
       "3  i am ever feeling nostalgic about the fireplac...        3      92\n",
       "4                               i am feeling grouchy        0      20"
      ]
     },
     "execution_count": 9,
     "metadata": {},
     "output_type": "execute_result"
    }
   ],
   "source": [
    "train_data.head()"
   ]
  },
  {
   "cell_type": "code",
   "execution_count": 10,
   "id": "08e958f4",
   "metadata": {
    "execution": {
     "iopub.execute_input": "2021-07-30T15:55:25.286846Z",
     "iopub.status.busy": "2021-07-30T15:55:25.285999Z",
     "iopub.status.idle": "2021-07-30T15:55:25.293269Z",
     "shell.execute_reply": "2021-07-30T15:55:25.293954Z",
     "shell.execute_reply.started": "2021-07-30T15:51:52.285988Z"
    },
    "papermill": {
     "duration": 0.060211,
     "end_time": "2021-07-30T15:55:25.294133",
     "exception": false,
     "start_time": "2021-07-30T15:55:25.233922",
     "status": "completed"
    },
    "tags": []
   },
   "outputs": [
    {
     "data": {
      "text/html": [
       "<div>\n",
       "<style scoped>\n",
       "    .dataframe tbody tr th:only-of-type {\n",
       "        vertical-align: middle;\n",
       "    }\n",
       "\n",
       "    .dataframe tbody tr th {\n",
       "        vertical-align: top;\n",
       "    }\n",
       "\n",
       "    .dataframe thead th {\n",
       "        text-align: right;\n",
       "    }\n",
       "</style>\n",
       "<table border=\"1\" class=\"dataframe\">\n",
       "  <thead>\n",
       "    <tr style=\"text-align: right;\">\n",
       "      <th></th>\n",
       "      <th>Comment</th>\n",
       "      <th>Emotion</th>\n",
       "    </tr>\n",
       "  </thead>\n",
       "  <tbody>\n",
       "    <tr>\n",
       "      <th>0</th>\n",
       "      <td>im feeling rather rotten so im not very ambiti...</td>\n",
       "      <td>4</td>\n",
       "    </tr>\n",
       "    <tr>\n",
       "      <th>1</th>\n",
       "      <td>im updating my blog because i feel shitty</td>\n",
       "      <td>4</td>\n",
       "    </tr>\n",
       "    <tr>\n",
       "      <th>2</th>\n",
       "      <td>i never make her separate from me because i do...</td>\n",
       "      <td>4</td>\n",
       "    </tr>\n",
       "    <tr>\n",
       "      <th>3</th>\n",
       "      <td>i left with my bouquet of red and yellow tulip...</td>\n",
       "      <td>2</td>\n",
       "    </tr>\n",
       "    <tr>\n",
       "      <th>4</th>\n",
       "      <td>i was feeling a little vain when i did this one</td>\n",
       "      <td>4</td>\n",
       "    </tr>\n",
       "  </tbody>\n",
       "</table>\n",
       "</div>"
      ],
      "text/plain": [
       "                                             Comment  Emotion\n",
       "0  im feeling rather rotten so im not very ambiti...        4\n",
       "1          im updating my blog because i feel shitty        4\n",
       "2  i never make her separate from me because i do...        4\n",
       "3  i left with my bouquet of red and yellow tulip...        2\n",
       "4    i was feeling a little vain when i did this one        4"
      ]
     },
     "execution_count": 10,
     "metadata": {},
     "output_type": "execute_result"
    }
   ],
   "source": [
    "test_data.head()"
   ]
  },
  {
   "cell_type": "code",
   "execution_count": 11,
   "id": "7fd9c7cf",
   "metadata": {
    "execution": {
     "iopub.execute_input": "2021-07-30T15:55:25.387161Z",
     "iopub.status.busy": "2021-07-30T15:55:25.386309Z",
     "iopub.status.idle": "2021-07-30T15:55:25.393728Z",
     "shell.execute_reply": "2021-07-30T15:55:25.394408Z",
     "shell.execute_reply.started": "2021-07-30T15:51:52.297929Z"
    },
    "papermill": {
     "duration": 0.05976,
     "end_time": "2021-07-30T15:55:25.394670",
     "exception": false,
     "start_time": "2021-07-30T15:55:25.334910",
     "status": "completed"
    },
    "tags": []
   },
   "outputs": [
    {
     "data": {
      "text/html": [
       "<div>\n",
       "<style scoped>\n",
       "    .dataframe tbody tr th:only-of-type {\n",
       "        vertical-align: middle;\n",
       "    }\n",
       "\n",
       "    .dataframe tbody tr th {\n",
       "        vertical-align: top;\n",
       "    }\n",
       "\n",
       "    .dataframe thead th {\n",
       "        text-align: right;\n",
       "    }\n",
       "</style>\n",
       "<table border=\"1\" class=\"dataframe\">\n",
       "  <thead>\n",
       "    <tr style=\"text-align: right;\">\n",
       "      <th></th>\n",
       "      <th>Comment</th>\n",
       "      <th>Emotion</th>\n",
       "    </tr>\n",
       "  </thead>\n",
       "  <tbody>\n",
       "    <tr>\n",
       "      <th>0</th>\n",
       "      <td>im feeling quite sad and sorry for myself but ...</td>\n",
       "      <td>4</td>\n",
       "    </tr>\n",
       "    <tr>\n",
       "      <th>1</th>\n",
       "      <td>i feel like i am still looking at a blank canv...</td>\n",
       "      <td>4</td>\n",
       "    </tr>\n",
       "    <tr>\n",
       "      <th>2</th>\n",
       "      <td>i feel like a faithful servant</td>\n",
       "      <td>3</td>\n",
       "    </tr>\n",
       "    <tr>\n",
       "      <th>3</th>\n",
       "      <td>i am just feeling cranky and blue</td>\n",
       "      <td>0</td>\n",
       "    </tr>\n",
       "    <tr>\n",
       "      <th>4</th>\n",
       "      <td>i can have for a treat or if i am feeling festive</td>\n",
       "      <td>2</td>\n",
       "    </tr>\n",
       "  </tbody>\n",
       "</table>\n",
       "</div>"
      ],
      "text/plain": [
       "                                             Comment  Emotion\n",
       "0  im feeling quite sad and sorry for myself but ...        4\n",
       "1  i feel like i am still looking at a blank canv...        4\n",
       "2                     i feel like a faithful servant        3\n",
       "3                  i am just feeling cranky and blue        0\n",
       "4  i can have for a treat or if i am feeling festive        2"
      ]
     },
     "execution_count": 11,
     "metadata": {},
     "output_type": "execute_result"
    }
   ],
   "source": [
    "validation_data.head()"
   ]
  },
  {
   "cell_type": "code",
   "execution_count": 12,
   "id": "e9644497",
   "metadata": {
    "execution": {
     "iopub.execute_input": "2021-07-30T15:55:25.490064Z",
     "iopub.status.busy": "2021-07-30T15:55:25.487368Z",
     "iopub.status.idle": "2021-07-30T15:55:26.237397Z",
     "shell.execute_reply": "2021-07-30T15:55:26.238710Z",
     "shell.execute_reply.started": "2021-07-30T15:51:52.312226Z"
    },
    "papermill": {
     "duration": 0.802034,
     "end_time": "2021-07-30T15:55:26.238967",
     "exception": false,
     "start_time": "2021-07-30T15:55:25.436933",
     "status": "completed"
    },
    "tags": []
   },
   "outputs": [],
   "source": [
    "import re \n",
    "import nltk\n",
    "from nltk.corpus import stopwords\n",
    "from nltk.stem import PorterStemmer"
   ]
  },
  {
   "cell_type": "code",
   "execution_count": 13,
   "id": "fe1e81ed",
   "metadata": {
    "execution": {
     "iopub.execute_input": "2021-07-30T15:55:26.341186Z",
     "iopub.status.busy": "2021-07-30T15:55:26.340259Z",
     "iopub.status.idle": "2021-07-30T15:55:26.345452Z",
     "shell.execute_reply": "2021-07-30T15:55:26.346138Z",
     "shell.execute_reply.started": "2021-07-30T15:51:52.924529Z"
    },
    "papermill": {
     "duration": 0.060558,
     "end_time": "2021-07-30T15:55:26.346347",
     "exception": false,
     "start_time": "2021-07-30T15:55:26.285789",
     "status": "completed"
    },
    "tags": []
   },
   "outputs": [
    {
     "data": {
      "text/plain": [
       "300"
      ]
     },
     "execution_count": 13,
     "metadata": {},
     "output_type": "execute_result"
    }
   ],
   "source": [
    "vocab_size = 10000\n",
    "train_data[\"length\"].max()"
   ]
  },
  {
   "cell_type": "code",
   "execution_count": 14,
   "id": "c26e16ce",
   "metadata": {
    "execution": {
     "iopub.execute_input": "2021-07-30T15:55:26.421056Z",
     "iopub.status.busy": "2021-07-30T15:55:26.420332Z",
     "iopub.status.idle": "2021-07-30T15:55:26.423635Z",
     "shell.execute_reply": "2021-07-30T15:55:26.424047Z",
     "shell.execute_reply.started": "2021-07-30T15:51:52.935130Z"
    },
    "papermill": {
     "duration": 0.036232,
     "end_time": "2021-07-30T15:55:26.424186",
     "exception": false,
     "start_time": "2021-07-30T15:55:26.387954",
     "status": "completed"
    },
    "tags": []
   },
   "outputs": [
    {
     "data": {
      "text/plain": [
       "7"
      ]
     },
     "execution_count": 14,
     "metadata": {},
     "output_type": "execute_result"
    }
   ],
   "source": [
    "train_data[\"length\"].min()"
   ]
  },
  {
   "cell_type": "code",
   "execution_count": 15,
   "id": "bfc1fbb9",
   "metadata": {
    "execution": {
     "iopub.execute_input": "2021-07-30T15:55:26.485205Z",
     "iopub.status.busy": "2021-07-30T15:55:26.484637Z",
     "iopub.status.idle": "2021-07-30T15:55:26.488903Z",
     "shell.execute_reply": "2021-07-30T15:55:26.488424Z",
     "shell.execute_reply.started": "2021-07-30T15:51:52.944048Z"
    },
    "papermill": {
     "duration": 0.035125,
     "end_time": "2021-07-30T15:55:26.489016",
     "exception": false,
     "start_time": "2021-07-30T15:55:26.453891",
     "status": "completed"
    },
    "tags": []
   },
   "outputs": [],
   "source": [
    "len_sentence = 150"
   ]
  },
  {
   "cell_type": "code",
   "execution_count": 16,
   "id": "bbfa6ec6",
   "metadata": {
    "execution": {
     "iopub.execute_input": "2021-07-30T15:55:26.551592Z",
     "iopub.status.busy": "2021-07-30T15:55:26.550675Z",
     "iopub.status.idle": "2021-07-30T15:55:26.555785Z",
     "shell.execute_reply": "2021-07-30T15:55:26.555325Z",
     "shell.execute_reply.started": "2021-07-30T15:51:52.951492Z"
    },
    "papermill": {
     "duration": 0.040871,
     "end_time": "2021-07-30T15:55:26.555940",
     "exception": false,
     "start_time": "2021-07-30T15:55:26.515069",
     "status": "completed"
    },
    "tags": []
   },
   "outputs": [
    {
     "data": {
      "text/html": [
       "<div>\n",
       "<style scoped>\n",
       "    .dataframe tbody tr th:only-of-type {\n",
       "        vertical-align: middle;\n",
       "    }\n",
       "\n",
       "    .dataframe tbody tr th {\n",
       "        vertical-align: top;\n",
       "    }\n",
       "\n",
       "    .dataframe thead th {\n",
       "        text-align: right;\n",
       "    }\n",
       "</style>\n",
       "<table border=\"1\" class=\"dataframe\">\n",
       "  <thead>\n",
       "    <tr style=\"text-align: right;\">\n",
       "      <th></th>\n",
       "      <th>Comment</th>\n",
       "      <th>Emotion</th>\n",
       "      <th>length</th>\n",
       "    </tr>\n",
       "  </thead>\n",
       "  <tbody>\n",
       "    <tr>\n",
       "      <th>0</th>\n",
       "      <td>i didnt feel humiliated</td>\n",
       "      <td>4</td>\n",
       "      <td>23</td>\n",
       "    </tr>\n",
       "    <tr>\n",
       "      <th>1</th>\n",
       "      <td>i can go from feeling so hopeless to so damned...</td>\n",
       "      <td>4</td>\n",
       "      <td>108</td>\n",
       "    </tr>\n",
       "    <tr>\n",
       "      <th>2</th>\n",
       "      <td>im grabbing a minute to post i feel greedy wrong</td>\n",
       "      <td>0</td>\n",
       "      <td>48</td>\n",
       "    </tr>\n",
       "    <tr>\n",
       "      <th>3</th>\n",
       "      <td>i am ever feeling nostalgic about the fireplac...</td>\n",
       "      <td>3</td>\n",
       "      <td>92</td>\n",
       "    </tr>\n",
       "    <tr>\n",
       "      <th>4</th>\n",
       "      <td>i am feeling grouchy</td>\n",
       "      <td>0</td>\n",
       "      <td>20</td>\n",
       "    </tr>\n",
       "  </tbody>\n",
       "</table>\n",
       "</div>"
      ],
      "text/plain": [
       "                                             Comment  Emotion  length\n",
       "0                            i didnt feel humiliated        4      23\n",
       "1  i can go from feeling so hopeless to so damned...        4     108\n",
       "2   im grabbing a minute to post i feel greedy wrong        0      48\n",
       "3  i am ever feeling nostalgic about the fireplac...        3      92\n",
       "4                               i am feeling grouchy        0      20"
      ]
     },
     "execution_count": 16,
     "metadata": {},
     "output_type": "execute_result"
    }
   ],
   "source": [
    "train_data.head()"
   ]
  },
  {
   "cell_type": "code",
   "execution_count": 17,
   "id": "95c68375",
   "metadata": {
    "execution": {
     "iopub.execute_input": "2021-07-30T15:55:26.614689Z",
     "iopub.status.busy": "2021-07-30T15:55:26.614191Z",
     "iopub.status.idle": "2021-07-30T15:55:31.120896Z",
     "shell.execute_reply": "2021-07-30T15:55:31.121488Z",
     "shell.execute_reply.started": "2021-07-30T15:51:53.081636Z"
    },
    "papermill": {
     "duration": 4.537574,
     "end_time": "2021-07-30T15:55:31.121681",
     "exception": false,
     "start_time": "2021-07-30T15:55:26.584107",
     "status": "completed"
    },
    "tags": []
   },
   "outputs": [
    {
     "name": "stdout",
     "output_type": "stream",
     "text": [
      "[nltk_data] Downloading package stopwords to /usr/share/nltk_data...\n",
      "[nltk_data]   Package stopwords is already up-to-date!\n"
     ]
    }
   ],
   "source": [
    "from tensorflow.keras.preprocessing.text import one_hot\n",
    "from tensorflow.keras.preprocessing.sequence import pad_sequences\n",
    "\n",
    "nltk.download('stopwords')\n",
    "stopwords = set(nltk.corpus.stopwords.words('english'))"
   ]
  },
  {
   "cell_type": "code",
   "execution_count": 18,
   "id": "6c6aff05",
   "metadata": {
    "execution": {
     "iopub.execute_input": "2021-07-30T15:55:31.187997Z",
     "iopub.status.busy": "2021-07-30T15:55:31.187253Z",
     "iopub.status.idle": "2021-07-30T15:55:31.190049Z",
     "shell.execute_reply": "2021-07-30T15:55:31.189628Z",
     "shell.execute_reply.started": "2021-07-30T15:51:57.234752Z"
    },
    "papermill": {
     "duration": 0.039024,
     "end_time": "2021-07-30T15:55:31.190160",
     "exception": false,
     "start_time": "2021-07-30T15:55:31.151136",
     "status": "completed"
    },
    "tags": []
   },
   "outputs": [],
   "source": [
    "def text_prepare(data, column):\n",
    "    print(data.shape)\n",
    "    stemmer = PorterStemmer()\n",
    "    corpus = []\n",
    "    \n",
    "    for text in data[column]:\n",
    "        text = re.sub(\"[^a-zA-Z]\", \" \", text)\n",
    "        \n",
    "        text = text.lower()\n",
    "        text = text.split()\n",
    "        \n",
    "        text = [stemmer.stem(word) for word in text if word not in stopwords]\n",
    "        text = \" \".join(text)\n",
    "        \n",
    "        corpus.append(text)\n",
    "    one_hot_word = [one_hot(input_text=word, n=vocab_size) for word in corpus]\n",
    "    embeddec_doc = pad_sequences(sequences=one_hot_word,\n",
    "                              maxlen=len_sentence,\n",
    "                              padding=\"pre\")\n",
    "    print(data.shape)\n",
    "    return embeddec_doc\n",
    "        "
   ]
  },
  {
   "cell_type": "code",
   "execution_count": 19,
   "id": "7bfd6764",
   "metadata": {
    "execution": {
     "iopub.execute_input": "2021-07-30T15:55:31.272173Z",
     "iopub.status.busy": "2021-07-30T15:55:31.261910Z",
     "iopub.status.idle": "2021-07-30T15:55:37.424757Z",
     "shell.execute_reply": "2021-07-30T15:55:37.425330Z",
     "shell.execute_reply.started": "2021-07-30T15:51:57.247746Z"
    },
    "papermill": {
     "duration": 6.208623,
     "end_time": "2021-07-30T15:55:37.425530",
     "exception": false,
     "start_time": "2021-07-30T15:55:31.216907",
     "status": "completed"
    },
    "tags": []
   },
   "outputs": [
    {
     "name": "stdout",
     "output_type": "stream",
     "text": [
      "(16000, 3)\n",
      "(16000, 3)\n",
      "(2000, 2)\n",
      "(2000, 2)\n",
      "(2000, 2)\n",
      "(2000, 2)\n"
     ]
    }
   ],
   "source": [
    "x_train=text_prepare(train_data, \"Comment\")\n",
    "x_validate=text_prepare(validation_data, \"Comment\")\n",
    "x_test=text_prepare(test_data, \"Comment\")"
   ]
  },
  {
   "cell_type": "code",
   "execution_count": 20,
   "id": "ad778742",
   "metadata": {
    "execution": {
     "iopub.execute_input": "2021-07-30T15:55:37.484520Z",
     "iopub.status.busy": "2021-07-30T15:55:37.483767Z",
     "iopub.status.idle": "2021-07-30T15:55:37.489025Z",
     "shell.execute_reply": "2021-07-30T15:55:37.489546Z",
     "shell.execute_reply.started": "2021-07-30T15:52:03.522432Z"
    },
    "papermill": {
     "duration": 0.036529,
     "end_time": "2021-07-30T15:55:37.489686",
     "exception": false,
     "start_time": "2021-07-30T15:55:37.453157",
     "status": "completed"
    },
    "tags": []
   },
   "outputs": [
    {
     "data": {
      "text/plain": [
       "(16000, 150)"
      ]
     },
     "execution_count": 20,
     "metadata": {},
     "output_type": "execute_result"
    }
   ],
   "source": [
    "x_train.shape"
   ]
  },
  {
   "cell_type": "code",
   "execution_count": 21,
   "id": "cc5ad069",
   "metadata": {
    "execution": {
     "iopub.execute_input": "2021-07-30T15:55:37.549555Z",
     "iopub.status.busy": "2021-07-30T15:55:37.548648Z",
     "iopub.status.idle": "2021-07-30T15:55:37.551416Z",
     "shell.execute_reply": "2021-07-30T15:55:37.550986Z",
     "shell.execute_reply.started": "2021-07-30T15:52:03.530639Z"
    },
    "papermill": {
     "duration": 0.03455,
     "end_time": "2021-07-30T15:55:37.551526",
     "exception": false,
     "start_time": "2021-07-30T15:55:37.516976",
     "status": "completed"
    },
    "tags": []
   },
   "outputs": [],
   "source": [
    "y_train=train_data[\"Emotion\"]\n",
    "y_validate=validation_data[\"Emotion\"]\n",
    "y_test=test_data[\"Emotion\"]"
   ]
  },
  {
   "cell_type": "code",
   "execution_count": 22,
   "id": "f98b3845",
   "metadata": {
    "execution": {
     "iopub.execute_input": "2021-07-30T15:55:37.610485Z",
     "iopub.status.busy": "2021-07-30T15:55:37.609681Z",
     "iopub.status.idle": "2021-07-30T15:55:37.615775Z",
     "shell.execute_reply": "2021-07-30T15:55:37.615342Z",
     "shell.execute_reply.started": "2021-07-30T15:52:03.542126Z"
    },
    "papermill": {
     "duration": 0.037164,
     "end_time": "2021-07-30T15:55:37.615897",
     "exception": false,
     "start_time": "2021-07-30T15:55:37.578733",
     "status": "completed"
    },
    "tags": []
   },
   "outputs": [],
   "source": [
    "from sklearn.preprocessing import OneHotEncoder\n",
    "enc = OneHotEncoder()\n",
    "y_train = np.array(y_train)\n",
    "y_train = enc.fit_transform(y_train.reshape(-1,1)).toarray()"
   ]
  },
  {
   "cell_type": "code",
   "execution_count": 23,
   "id": "70d40425",
   "metadata": {
    "execution": {
     "iopub.execute_input": "2021-07-30T15:55:37.674864Z",
     "iopub.status.busy": "2021-07-30T15:55:37.674053Z",
     "iopub.status.idle": "2021-07-30T15:55:37.678610Z",
     "shell.execute_reply": "2021-07-30T15:55:37.678188Z",
     "shell.execute_reply.started": "2021-07-30T15:52:03.555084Z"
    },
    "papermill": {
     "duration": 0.035613,
     "end_time": "2021-07-30T15:55:37.678711",
     "exception": false,
     "start_time": "2021-07-30T15:55:37.643098",
     "status": "completed"
    },
    "tags": []
   },
   "outputs": [],
   "source": [
    "y_test = np.array(y_test)\n",
    "y_validate = np.array(y_validate)\n",
    "\n",
    "y_test = enc.fit_transform(y_test.reshape(-1,1)).toarray()\n",
    "y_validate = enc.fit_transform(y_validate.reshape(-1,1)).toarray()"
   ]
  },
  {
   "cell_type": "code",
   "execution_count": 24,
   "id": "59d85bca",
   "metadata": {
    "execution": {
     "iopub.execute_input": "2021-07-30T15:55:37.737190Z",
     "iopub.status.busy": "2021-07-30T15:55:37.736483Z",
     "iopub.status.idle": "2021-07-30T15:55:37.738723Z",
     "shell.execute_reply": "2021-07-30T15:55:37.739132Z",
     "shell.execute_reply.started": "2021-07-30T15:52:03.566694Z"
    },
    "papermill": {
     "duration": 0.03352,
     "end_time": "2021-07-30T15:55:37.739260",
     "exception": false,
     "start_time": "2021-07-30T15:55:37.705740",
     "status": "completed"
    },
    "tags": []
   },
   "outputs": [],
   "source": [
    "from tensorflow.keras.models import Sequential\n",
    "from tensorflow.keras.layers import Embedding\n",
    "from tensorflow.keras.layers import LSTM\n",
    "from tensorflow.keras.layers import Dense\n",
    "from tensorflow.keras.layers import Dropout\n",
    "from tensorflow.keras.optimizers import Adam"
   ]
  },
  {
   "cell_type": "code",
   "execution_count": 25,
   "id": "3905490d",
   "metadata": {
    "execution": {
     "iopub.execute_input": "2021-07-30T15:55:37.798337Z",
     "iopub.status.busy": "2021-07-30T15:55:37.797846Z",
     "iopub.status.idle": "2021-07-30T15:55:40.072652Z",
     "shell.execute_reply": "2021-07-30T15:55:40.072172Z",
     "shell.execute_reply.started": "2021-07-30T15:52:03.575941Z"
    },
    "papermill": {
     "duration": 2.306158,
     "end_time": "2021-07-30T15:55:40.072782",
     "exception": false,
     "start_time": "2021-07-30T15:55:37.766624",
     "status": "completed"
    },
    "tags": []
   },
   "outputs": [],
   "source": [
    "model = Sequential()\n",
    "model.add(Embedding(input_dim=vocab_size, output_dim=150, input_length=len_sentence))\n",
    "model.add(Dropout(0.2))\n",
    "model.add(LSTM(128))\n",
    "model.add(Dropout(0.2))\n",
    "model.add(Dense(64, activation=\"sigmoid\"))\n",
    "model.add(Dropout(0.2))\n",
    "model.add(Dense(6, activation=\"softmax\"))"
   ]
  },
  {
   "cell_type": "code",
   "execution_count": 26,
   "id": "75a31dbd",
   "metadata": {
    "execution": {
     "iopub.execute_input": "2021-07-30T15:55:40.140349Z",
     "iopub.status.busy": "2021-07-30T15:55:40.139497Z",
     "iopub.status.idle": "2021-07-30T15:55:40.146111Z",
     "shell.execute_reply": "2021-07-30T15:55:40.146548Z",
     "shell.execute_reply.started": "2021-07-30T15:52:05.856340Z"
    },
    "papermill": {
     "duration": 0.045809,
     "end_time": "2021-07-30T15:55:40.146679",
     "exception": false,
     "start_time": "2021-07-30T15:55:40.100870",
     "status": "completed"
    },
    "tags": []
   },
   "outputs": [],
   "source": [
    "model.compile(optimizer=\"Adam\", loss = \"categorical_crossentropy\", metrics=[\"accuracy\"])"
   ]
  },
  {
   "cell_type": "code",
   "execution_count": 27,
   "id": "05f234c7",
   "metadata": {
    "execution": {
     "iopub.execute_input": "2021-07-30T15:55:40.206504Z",
     "iopub.status.busy": "2021-07-30T15:55:40.205867Z",
     "iopub.status.idle": "2021-07-30T15:55:40.257071Z",
     "shell.execute_reply": "2021-07-30T15:55:40.256577Z",
     "shell.execute_reply.started": "2021-07-30T15:52:05.876069Z"
    },
    "papermill": {
     "duration": 0.082792,
     "end_time": "2021-07-30T15:55:40.257192",
     "exception": false,
     "start_time": "2021-07-30T15:55:40.174400",
     "status": "completed"
    },
    "tags": []
   },
   "outputs": [],
   "source": [
    "from keras.callbacks import EarlyStopping, ModelCheckpoint\n",
    "\n",
    "\n",
    "es = EarlyStopping(monitor = 'val_loss', mode = 'min', verbose = 1, patience = 5)\n",
    "mc = ModelCheckpoint('./model.h5', monitor = 'val_accuracy', mode = 'max', verbose = 1, save_best_only = True)"
   ]
  },
  {
   "cell_type": "code",
   "execution_count": 28,
   "id": "b01921b0",
   "metadata": {
    "execution": {
     "iopub.execute_input": "2021-07-30T15:55:40.315907Z",
     "iopub.status.busy": "2021-07-30T15:55:40.315197Z",
     "iopub.status.idle": "2021-07-30T15:55:40.318207Z",
     "shell.execute_reply": "2021-07-30T15:55:40.318578Z",
     "shell.execute_reply.started": "2021-07-30T15:52:05.927179Z"
    },
    "papermill": {
     "duration": 0.034246,
     "end_time": "2021-07-30T15:55:40.318704",
     "exception": false,
     "start_time": "2021-07-30T15:55:40.284458",
     "status": "completed"
    },
    "tags": []
   },
   "outputs": [
    {
     "data": {
      "text/plain": [
       "(16000, 6)"
      ]
     },
     "execution_count": 28,
     "metadata": {},
     "output_type": "execute_result"
    }
   ],
   "source": [
    "y_train.shape"
   ]
  },
  {
   "cell_type": "code",
   "execution_count": 29,
   "id": "03c95d66",
   "metadata": {
    "execution": {
     "iopub.execute_input": "2021-07-30T15:55:40.377525Z",
     "iopub.status.busy": "2021-07-30T15:55:40.377034Z",
     "iopub.status.idle": "2021-07-30T15:56:46.952389Z",
     "shell.execute_reply": "2021-07-30T15:56:46.951774Z",
     "shell.execute_reply.started": "2021-07-30T15:52:05.935259Z"
    },
    "papermill": {
     "duration": 66.606442,
     "end_time": "2021-07-30T15:56:46.952562",
     "exception": false,
     "start_time": "2021-07-30T15:55:40.346120",
     "status": "completed"
    },
    "tags": []
   },
   "outputs": [
    {
     "name": "stdout",
     "output_type": "stream",
     "text": [
      "Epoch 1/25\n",
      "250/250 [==============================] - 15s 30ms/step - loss: 1.6720 - accuracy: 0.3248 - val_loss: 1.3360 - val_accuracy: 0.5330\n",
      "\n",
      "Epoch 00001: val_accuracy improved from -inf to 0.53300, saving model to ./model.h5\n",
      "Epoch 2/25\n",
      "250/250 [==============================] - 7s 27ms/step - loss: 1.1316 - accuracy: 0.6142 - val_loss: 0.7650 - val_accuracy: 0.7105\n",
      "\n",
      "Epoch 00002: val_accuracy improved from 0.53300 to 0.71050, saving model to ./model.h5\n",
      "Epoch 3/25\n",
      "250/250 [==============================] - 6s 25ms/step - loss: 0.6258 - accuracy: 0.7784 - val_loss: 0.4428 - val_accuracy: 0.8570\n",
      "\n",
      "Epoch 00003: val_accuracy improved from 0.71050 to 0.85700, saving model to ./model.h5\n",
      "Epoch 4/25\n",
      "250/250 [==============================] - 6s 26ms/step - loss: 0.3027 - accuracy: 0.9081 - val_loss: 0.3849 - val_accuracy: 0.8675\n",
      "\n",
      "Epoch 00004: val_accuracy improved from 0.85700 to 0.86750, saving model to ./model.h5\n",
      "Epoch 5/25\n",
      "250/250 [==============================] - 6s 25ms/step - loss: 0.2191 - accuracy: 0.9273 - val_loss: 0.3870 - val_accuracy: 0.8790\n",
      "\n",
      "Epoch 00005: val_accuracy improved from 0.86750 to 0.87900, saving model to ./model.h5\n",
      "Epoch 6/25\n",
      "250/250 [==============================] - 6s 25ms/step - loss: 0.1697 - accuracy: 0.9414 - val_loss: 0.3895 - val_accuracy: 0.8805\n",
      "\n",
      "Epoch 00006: val_accuracy improved from 0.87900 to 0.88050, saving model to ./model.h5\n",
      "Epoch 7/25\n",
      "250/250 [==============================] - 7s 27ms/step - loss: 0.1370 - accuracy: 0.9538 - val_loss: 0.3942 - val_accuracy: 0.8690\n",
      "\n",
      "Epoch 00007: val_accuracy did not improve from 0.88050\n",
      "Epoch 8/25\n",
      "250/250 [==============================] - 6s 25ms/step - loss: 0.1185 - accuracy: 0.9596 - val_loss: 0.4005 - val_accuracy: 0.8770\n",
      "\n",
      "Epoch 00008: val_accuracy did not improve from 0.88050\n",
      "Epoch 9/25\n",
      "250/250 [==============================] - 6s 26ms/step - loss: 0.0946 - accuracy: 0.9660 - val_loss: 0.4171 - val_accuracy: 0.8770\n",
      "\n",
      "Epoch 00009: val_accuracy did not improve from 0.88050\n",
      "Epoch 00009: early stopping\n"
     ]
    }
   ],
   "source": [
    "hist = model.fit(x_train, y_train, epochs = 25, batch_size = 64, validation_data=(x_validate, y_validate),verbose = 1, callbacks= [es, mc])"
   ]
  },
  {
   "cell_type": "code",
   "execution_count": null,
   "id": "114d8837",
   "metadata": {
    "papermill": {
     "duration": 0.246139,
     "end_time": "2021-07-30T15:56:47.446709",
     "exception": false,
     "start_time": "2021-07-30T15:56:47.200570",
     "status": "completed"
    },
    "tags": []
   },
   "outputs": [],
   "source": []
  }
 ],
 "metadata": {
  "kernelspec": {
   "display_name": "Python 3",
   "language": "python",
   "name": "python3"
  },
  "language_info": {
   "codemirror_mode": {
    "name": "ipython",
    "version": 3
   },
   "file_extension": ".py",
   "mimetype": "text/x-python",
   "name": "python",
   "nbconvert_exporter": "python",
   "pygments_lexer": "ipython3",
   "version": "3.7.10"
  },
  "papermill": {
   "default_parameters": {},
   "duration": 94.692615,
   "end_time": "2021-07-30T15:56:50.140202",
   "environment_variables": {},
   "exception": null,
   "input_path": "__notebook__.ipynb",
   "output_path": "__notebook__.ipynb",
   "parameters": {},
   "start_time": "2021-07-30T15:55:15.447587",
   "version": "2.3.3"
  }
 },
 "nbformat": 4,
 "nbformat_minor": 5
}
