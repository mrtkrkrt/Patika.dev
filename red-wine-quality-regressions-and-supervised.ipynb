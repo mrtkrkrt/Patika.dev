{
 "cells": [
  {
   "cell_type": "code",
   "execution_count": 1,
   "metadata": {
    "_cell_guid": "b1076dfc-b9ad-4769-8c92-a6c4dae69d19",
    "_uuid": "8f2839f25d086af736a60e9eeb907d3b93b6e0e5",
    "execution": {
     "iopub.execute_input": "2021-01-22T16:13:42.354173Z",
     "iopub.status.busy": "2021-01-22T16:13:42.353261Z",
     "iopub.status.idle": "2021-01-22T16:13:42.369602Z",
     "shell.execute_reply": "2021-01-22T16:13:42.370058Z"
    },
    "papermill": {
     "duration": 0.034326,
     "end_time": "2021-01-22T16:13:42.370261",
     "exception": false,
     "start_time": "2021-01-22T16:13:42.335935",
     "status": "completed"
    },
    "tags": []
   },
   "outputs": [
    {
     "name": "stdout",
     "output_type": "stream",
     "text": [
      "/kaggle/input/red-wine-quality-cortez-et-al-2009/winequality-red.csv\n"
     ]
    }
   ],
   "source": [
    "# This Python 3 environment comes with many helpful analytics libraries installed\n",
    "# It is defined by the kaggle/python Docker image: https://github.com/kaggle/docker-python\n",
    "# For example, here's several helpful packages to load\n",
    "\n",
    "import numpy as np # linear algebra\n",
    "import pandas as pd # data processing, CSV file I/O (e.g. pd.read_csv)\n",
    "import matplotlib.pyplot as plt\n",
    "\n",
    "# Input data files are available in the read-only \"../input/\" directory\n",
    "# For example, running this (by clicking run or pressing Shift+Enter) will list all files under the input directory\n",
    "\n",
    "import os\n",
    "for dirname, _, filenames in os.walk('/kaggle/input'):\n",
    "    for filename in filenames:\n",
    "        print(os.path.join(dirname, filename))\n",
    "\n",
    "# You can write up to 20GB to the current directory (/kaggle/working/) that gets preserved as output when you create a version using \"Save & Run All\" \n",
    "# You can also write temporary files to /kaggle/temp/, but they won't be saved outside of the current session"
   ]
  },
  {
   "cell_type": "code",
   "execution_count": 2,
   "metadata": {
    "execution": {
     "iopub.execute_input": "2021-01-22T16:13:42.397048Z",
     "iopub.status.busy": "2021-01-22T16:13:42.396150Z",
     "iopub.status.idle": "2021-01-22T16:13:42.441548Z",
     "shell.execute_reply": "2021-01-22T16:13:42.442039Z"
    },
    "papermill": {
     "duration": 0.05987,
     "end_time": "2021-01-22T16:13:42.442172",
     "exception": false,
     "start_time": "2021-01-22T16:13:42.382302",
     "status": "completed"
    },
    "tags": []
   },
   "outputs": [
    {
     "name": "stdout",
     "output_type": "stream",
     "text": [
      "<class 'pandas.core.frame.DataFrame'>\n",
      "RangeIndex: 1599 entries, 0 to 1598\n",
      "Data columns (total 12 columns):\n",
      " #   Column                Non-Null Count  Dtype  \n",
      "---  ------                --------------  -----  \n",
      " 0   fixed acidity         1599 non-null   float64\n",
      " 1   volatile acidity      1599 non-null   float64\n",
      " 2   citric acid           1599 non-null   float64\n",
      " 3   residual sugar        1599 non-null   float64\n",
      " 4   chlorides             1599 non-null   float64\n",
      " 5   free sulfur dioxide   1599 non-null   float64\n",
      " 6   total sulfur dioxide  1599 non-null   float64\n",
      " 7   density               1599 non-null   float64\n",
      " 8   pH                    1599 non-null   float64\n",
      " 9   sulphates             1599 non-null   float64\n",
      " 10  alcohol               1599 non-null   float64\n",
      " 11  quality               1599 non-null   int64  \n",
      "dtypes: float64(11), int64(1)\n",
      "memory usage: 150.0 KB\n"
     ]
    }
   ],
   "source": [
    "data = pd.read_csv(\"/kaggle/input/red-wine-quality-cortez-et-al-2009/winequality-red.csv\")\n",
    "data.info()\n",
    "qualities = data.quality"
   ]
  },
  {
   "cell_type": "code",
   "execution_count": 3,
   "metadata": {
    "execution": {
     "iopub.execute_input": "2021-01-22T16:13:42.478163Z",
     "iopub.status.busy": "2021-01-22T16:13:42.477159Z",
     "iopub.status.idle": "2021-01-22T16:13:42.569724Z",
     "shell.execute_reply": "2021-01-22T16:13:42.569235Z"
    },
    "papermill": {
     "duration": 0.115777,
     "end_time": "2021-01-22T16:13:42.569838",
     "exception": false,
     "start_time": "2021-01-22T16:13:42.454061",
     "status": "completed"
    },
    "tags": []
   },
   "outputs": [
    {
     "data": {
      "text/html": [
       "<div>\n",
       "<style scoped>\n",
       "    .dataframe tbody tr th:only-of-type {\n",
       "        vertical-align: middle;\n",
       "    }\n",
       "\n",
       "    .dataframe tbody tr th {\n",
       "        vertical-align: top;\n",
       "    }\n",
       "\n",
       "    .dataframe thead th {\n",
       "        text-align: right;\n",
       "    }\n",
       "</style>\n",
       "<table border=\"1\" class=\"dataframe\">\n",
       "  <thead>\n",
       "    <tr style=\"text-align: right;\">\n",
       "      <th></th>\n",
       "      <th>fixed acidity</th>\n",
       "      <th>volatile acidity</th>\n",
       "      <th>citric acid</th>\n",
       "      <th>residual sugar</th>\n",
       "      <th>chlorides</th>\n",
       "      <th>free sulfur dioxide</th>\n",
       "      <th>total sulfur dioxide</th>\n",
       "      <th>density</th>\n",
       "      <th>pH</th>\n",
       "      <th>sulphates</th>\n",
       "      <th>alcohol</th>\n",
       "      <th>quality</th>\n",
       "    </tr>\n",
       "  </thead>\n",
       "  <tbody>\n",
       "    <tr>\n",
       "      <th>0</th>\n",
       "      <td>7.4</td>\n",
       "      <td>0.700</td>\n",
       "      <td>0.00</td>\n",
       "      <td>1.9</td>\n",
       "      <td>0.076</td>\n",
       "      <td>11.0</td>\n",
       "      <td>34.0</td>\n",
       "      <td>0.99780</td>\n",
       "      <td>3.51</td>\n",
       "      <td>0.56</td>\n",
       "      <td>9.4</td>\n",
       "      <td>0</td>\n",
       "    </tr>\n",
       "    <tr>\n",
       "      <th>1</th>\n",
       "      <td>7.8</td>\n",
       "      <td>0.880</td>\n",
       "      <td>0.00</td>\n",
       "      <td>2.6</td>\n",
       "      <td>0.098</td>\n",
       "      <td>25.0</td>\n",
       "      <td>67.0</td>\n",
       "      <td>0.99680</td>\n",
       "      <td>3.20</td>\n",
       "      <td>0.68</td>\n",
       "      <td>9.8</td>\n",
       "      <td>0</td>\n",
       "    </tr>\n",
       "    <tr>\n",
       "      <th>2</th>\n",
       "      <td>7.8</td>\n",
       "      <td>0.760</td>\n",
       "      <td>0.04</td>\n",
       "      <td>2.3</td>\n",
       "      <td>0.092</td>\n",
       "      <td>15.0</td>\n",
       "      <td>54.0</td>\n",
       "      <td>0.99700</td>\n",
       "      <td>3.26</td>\n",
       "      <td>0.65</td>\n",
       "      <td>9.8</td>\n",
       "      <td>0</td>\n",
       "    </tr>\n",
       "    <tr>\n",
       "      <th>3</th>\n",
       "      <td>11.2</td>\n",
       "      <td>0.280</td>\n",
       "      <td>0.56</td>\n",
       "      <td>1.9</td>\n",
       "      <td>0.075</td>\n",
       "      <td>17.0</td>\n",
       "      <td>60.0</td>\n",
       "      <td>0.99800</td>\n",
       "      <td>3.16</td>\n",
       "      <td>0.58</td>\n",
       "      <td>9.8</td>\n",
       "      <td>0</td>\n",
       "    </tr>\n",
       "    <tr>\n",
       "      <th>4</th>\n",
       "      <td>7.4</td>\n",
       "      <td>0.700</td>\n",
       "      <td>0.00</td>\n",
       "      <td>1.9</td>\n",
       "      <td>0.076</td>\n",
       "      <td>11.0</td>\n",
       "      <td>34.0</td>\n",
       "      <td>0.99780</td>\n",
       "      <td>3.51</td>\n",
       "      <td>0.56</td>\n",
       "      <td>9.4</td>\n",
       "      <td>0</td>\n",
       "    </tr>\n",
       "    <tr>\n",
       "      <th>...</th>\n",
       "      <td>...</td>\n",
       "      <td>...</td>\n",
       "      <td>...</td>\n",
       "      <td>...</td>\n",
       "      <td>...</td>\n",
       "      <td>...</td>\n",
       "      <td>...</td>\n",
       "      <td>...</td>\n",
       "      <td>...</td>\n",
       "      <td>...</td>\n",
       "      <td>...</td>\n",
       "      <td>...</td>\n",
       "    </tr>\n",
       "    <tr>\n",
       "      <th>1594</th>\n",
       "      <td>6.2</td>\n",
       "      <td>0.600</td>\n",
       "      <td>0.08</td>\n",
       "      <td>2.0</td>\n",
       "      <td>0.090</td>\n",
       "      <td>32.0</td>\n",
       "      <td>44.0</td>\n",
       "      <td>0.99490</td>\n",
       "      <td>3.45</td>\n",
       "      <td>0.58</td>\n",
       "      <td>10.5</td>\n",
       "      <td>0</td>\n",
       "    </tr>\n",
       "    <tr>\n",
       "      <th>1595</th>\n",
       "      <td>5.9</td>\n",
       "      <td>0.550</td>\n",
       "      <td>0.10</td>\n",
       "      <td>2.2</td>\n",
       "      <td>0.062</td>\n",
       "      <td>39.0</td>\n",
       "      <td>51.0</td>\n",
       "      <td>0.99512</td>\n",
       "      <td>3.52</td>\n",
       "      <td>0.76</td>\n",
       "      <td>11.2</td>\n",
       "      <td>0</td>\n",
       "    </tr>\n",
       "    <tr>\n",
       "      <th>1596</th>\n",
       "      <td>6.3</td>\n",
       "      <td>0.510</td>\n",
       "      <td>0.13</td>\n",
       "      <td>2.3</td>\n",
       "      <td>0.076</td>\n",
       "      <td>29.0</td>\n",
       "      <td>40.0</td>\n",
       "      <td>0.99574</td>\n",
       "      <td>3.42</td>\n",
       "      <td>0.75</td>\n",
       "      <td>11.0</td>\n",
       "      <td>0</td>\n",
       "    </tr>\n",
       "    <tr>\n",
       "      <th>1597</th>\n",
       "      <td>5.9</td>\n",
       "      <td>0.645</td>\n",
       "      <td>0.12</td>\n",
       "      <td>2.0</td>\n",
       "      <td>0.075</td>\n",
       "      <td>32.0</td>\n",
       "      <td>44.0</td>\n",
       "      <td>0.99547</td>\n",
       "      <td>3.57</td>\n",
       "      <td>0.71</td>\n",
       "      <td>10.2</td>\n",
       "      <td>0</td>\n",
       "    </tr>\n",
       "    <tr>\n",
       "      <th>1598</th>\n",
       "      <td>6.0</td>\n",
       "      <td>0.310</td>\n",
       "      <td>0.47</td>\n",
       "      <td>3.6</td>\n",
       "      <td>0.067</td>\n",
       "      <td>18.0</td>\n",
       "      <td>42.0</td>\n",
       "      <td>0.99549</td>\n",
       "      <td>3.39</td>\n",
       "      <td>0.66</td>\n",
       "      <td>11.0</td>\n",
       "      <td>0</td>\n",
       "    </tr>\n",
       "  </tbody>\n",
       "</table>\n",
       "<p>1599 rows × 12 columns</p>\n",
       "</div>"
      ],
      "text/plain": [
       "      fixed acidity  volatile acidity  citric acid  residual sugar  chlorides  \\\n",
       "0               7.4             0.700         0.00             1.9      0.076   \n",
       "1               7.8             0.880         0.00             2.6      0.098   \n",
       "2               7.8             0.760         0.04             2.3      0.092   \n",
       "3              11.2             0.280         0.56             1.9      0.075   \n",
       "4               7.4             0.700         0.00             1.9      0.076   \n",
       "...             ...               ...          ...             ...        ...   \n",
       "1594            6.2             0.600         0.08             2.0      0.090   \n",
       "1595            5.9             0.550         0.10             2.2      0.062   \n",
       "1596            6.3             0.510         0.13             2.3      0.076   \n",
       "1597            5.9             0.645         0.12             2.0      0.075   \n",
       "1598            6.0             0.310         0.47             3.6      0.067   \n",
       "\n",
       "      free sulfur dioxide  total sulfur dioxide  density    pH  sulphates  \\\n",
       "0                    11.0                  34.0  0.99780  3.51       0.56   \n",
       "1                    25.0                  67.0  0.99680  3.20       0.68   \n",
       "2                    15.0                  54.0  0.99700  3.26       0.65   \n",
       "3                    17.0                  60.0  0.99800  3.16       0.58   \n",
       "4                    11.0                  34.0  0.99780  3.51       0.56   \n",
       "...                   ...                   ...      ...   ...        ...   \n",
       "1594                 32.0                  44.0  0.99490  3.45       0.58   \n",
       "1595                 39.0                  51.0  0.99512  3.52       0.76   \n",
       "1596                 29.0                  40.0  0.99574  3.42       0.75   \n",
       "1597                 32.0                  44.0  0.99547  3.57       0.71   \n",
       "1598                 18.0                  42.0  0.99549  3.39       0.66   \n",
       "\n",
       "      alcohol  quality  \n",
       "0         9.4        0  \n",
       "1         9.8        0  \n",
       "2         9.8        0  \n",
       "3         9.8        0  \n",
       "4         9.4        0  \n",
       "...       ...      ...  \n",
       "1594     10.5        0  \n",
       "1595     11.2        0  \n",
       "1596     11.0        0  \n",
       "1597     10.2        0  \n",
       "1598     11.0        0  \n",
       "\n",
       "[1599 rows x 12 columns]"
      ]
     },
     "execution_count": 3,
     "metadata": {},
     "output_type": "execute_result"
    }
   ],
   "source": [
    "#If the quality value is above 5, we accept the wine as quality\n",
    "data[\"quality\"] = [1 if i>data.quality.mean()+1 else 0 for i in data.quality]\n",
    "data"
   ]
  },
  {
   "cell_type": "code",
   "execution_count": 4,
   "metadata": {
    "execution": {
     "iopub.execute_input": "2021-01-22T16:13:42.601917Z",
     "iopub.status.busy": "2021-01-22T16:13:42.601071Z",
     "iopub.status.idle": "2021-01-22T16:13:42.604718Z",
     "shell.execute_reply": "2021-01-22T16:13:42.604222Z"
    },
    "papermill": {
     "duration": 0.022404,
     "end_time": "2021-01-22T16:13:42.604823",
     "exception": false,
     "start_time": "2021-01-22T16:13:42.582419",
     "status": "completed"
    },
    "tags": []
   },
   "outputs": [],
   "source": [
    "x_data = data.drop([\"quality\"],axis=1)\n",
    "y = data.quality.values"
   ]
  },
  {
   "cell_type": "markdown",
   "metadata": {
    "papermill": {
     "duration": 0.012164,
     "end_time": "2021-01-22T16:13:42.629581",
     "exception": false,
     "start_time": "2021-01-22T16:13:42.617417",
     "status": "completed"
    },
    "tags": []
   },
   "source": [
    "NORMALİZATİON"
   ]
  },
  {
   "cell_type": "code",
   "execution_count": 5,
   "metadata": {
    "execution": {
     "iopub.execute_input": "2021-01-22T16:13:42.661445Z",
     "iopub.status.busy": "2021-01-22T16:13:42.660563Z",
     "iopub.status.idle": "2021-01-22T16:13:42.688144Z",
     "shell.execute_reply": "2021-01-22T16:13:42.687380Z"
    },
    "papermill": {
     "duration": 0.04619,
     "end_time": "2021-01-22T16:13:42.688301",
     "exception": false,
     "start_time": "2021-01-22T16:13:42.642111",
     "status": "completed"
    },
    "tags": []
   },
   "outputs": [],
   "source": [
    "#Normalization\n",
    "x = (x_data-np.min(x_data))/(np.max(x_data)-np.min(x_data))\n",
    "#Create a dictionary to see all values at the end\n",
    "scores = {}"
   ]
  },
  {
   "cell_type": "markdown",
   "metadata": {
    "papermill": {
     "duration": 0.012091,
     "end_time": "2021-01-22T16:13:42.713091",
     "exception": false,
     "start_time": "2021-01-22T16:13:42.701000",
     "status": "completed"
    },
    "tags": []
   },
   "source": [
    "TRAİN TEST SPLİT"
   ]
  },
  {
   "cell_type": "code",
   "execution_count": 6,
   "metadata": {
    "execution": {
     "iopub.execute_input": "2021-01-22T16:13:42.743618Z",
     "iopub.status.busy": "2021-01-22T16:13:42.742871Z",
     "iopub.status.idle": "2021-01-22T16:13:43.890374Z",
     "shell.execute_reply": "2021-01-22T16:13:43.889664Z"
    },
    "papermill": {
     "duration": 1.164711,
     "end_time": "2021-01-22T16:13:43.890491",
     "exception": false,
     "start_time": "2021-01-22T16:13:42.725780",
     "status": "completed"
    },
    "tags": []
   },
   "outputs": [],
   "source": [
    "#Train Test Split\n",
    "from sklearn.model_selection import train_test_split\n",
    "x_train,x_test,y_train,y_test = train_test_split(x,y,test_size=0.2,random_state = 2)"
   ]
  },
  {
   "cell_type": "markdown",
   "metadata": {
    "papermill": {
     "duration": 0.012535,
     "end_time": "2021-01-22T16:13:43.915846",
     "exception": false,
     "start_time": "2021-01-22T16:13:43.903311",
     "status": "completed"
    },
    "tags": []
   },
   "source": [
    "# LOGISTIC REGRESSON"
   ]
  },
  {
   "cell_type": "code",
   "execution_count": 7,
   "metadata": {
    "execution": {
     "iopub.execute_input": "2021-01-22T16:13:43.947015Z",
     "iopub.status.busy": "2021-01-22T16:13:43.946220Z",
     "iopub.status.idle": "2021-01-22T16:13:44.105430Z",
     "shell.execute_reply": "2021-01-22T16:13:44.104905Z"
    },
    "papermill": {
     "duration": 0.177085,
     "end_time": "2021-01-22T16:13:44.105579",
     "exception": false,
     "start_time": "2021-01-22T16:13:43.928494",
     "status": "completed"
    },
    "tags": []
   },
   "outputs": [
    {
     "name": "stdout",
     "output_type": "stream",
     "text": [
      "Logistic Regression Accuracy =  0.878125\n"
     ]
    }
   ],
   "source": [
    "from sklearn.linear_model import LogisticRegression\n",
    "\n",
    "lg = LogisticRegression()\n",
    "lg.fit(x_train,y_train)\n",
    "scores[\"Linear_Regression\"] = lg.score(x_test,y_test)\n",
    "\n",
    "print(\"Logistic Regression Accuracy = \",lg.score(x_test,y_test))"
   ]
  },
  {
   "cell_type": "markdown",
   "metadata": {
    "papermill": {
     "duration": 0.01269,
     "end_time": "2021-01-22T16:13:44.132532",
     "exception": false,
     "start_time": "2021-01-22T16:13:44.119842",
     "status": "completed"
    },
    "tags": []
   },
   "source": [
    "# K-Nearest Neighbour Classification"
   ]
  },
  {
   "cell_type": "code",
   "execution_count": 8,
   "metadata": {
    "execution": {
     "iopub.execute_input": "2021-01-22T16:13:44.165613Z",
     "iopub.status.busy": "2021-01-22T16:13:44.164981Z",
     "iopub.status.idle": "2021-01-22T16:13:47.122717Z",
     "shell.execute_reply": "2021-01-22T16:13:47.122248Z"
    },
    "papermill": {
     "duration": 2.97704,
     "end_time": "2021-01-22T16:13:47.122829",
     "exception": false,
     "start_time": "2021-01-22T16:13:44.145789",
     "status": "completed"
    },
    "tags": []
   },
   "outputs": [
    {
     "name": "stdout",
     "output_type": "stream",
     "text": [
      "KNN Accuracy :  0.90625\n"
     ]
    },
    {
     "data": {
      "text/plain": [
       "[<matplotlib.lines.Line2D at 0x7f3c4cc7ced0>]"
      ]
     },
     "execution_count": 8,
     "metadata": {},
     "output_type": "execute_result"
    },
    {
     "data": {
      "image/png": "[encoded data removed]",
      "text/plain": [
       "<Figure size 432x288 with 1 Axes>"
      ]
     },
     "metadata": {
      "needs_background": "light"
     },
     "output_type": "display_data"
    }
   ],
   "source": [
    "from sklearn.neighbors import KNeighborsClassifier\n",
    "\n",
    "score = 0\n",
    "best_n = 0\n",
    "score_list = []\n",
    "\n",
    "for i in range(1,100):\n",
    "    knn = KNeighborsClassifier(n_neighbors=i)\n",
    "    knn.fit(x_train,y_train)\n",
    "    score_temp = knn.score(x_test,y_test)\n",
    "    score_list.append(score_temp)\n",
    "    if score_temp > score:\n",
    "        score = score_temp\n",
    "        best_n = i\n",
    "        \n",
    "scores[\"KNN\"] = score\n",
    "\n",
    "print(\"KNN Accuracy : \",score)\n",
    "plt.plot(range(1,100),score_list)"
   ]
  },
  {
   "cell_type": "markdown",
   "metadata": {
    "papermill": {
     "duration": 0.014313,
     "end_time": "2021-01-22T16:13:47.152321",
     "exception": false,
     "start_time": "2021-01-22T16:13:47.138008",
     "status": "completed"
    },
    "tags": []
   },
   "source": [
    "# SVM"
   ]
  },
  {
   "cell_type": "code",
   "execution_count": 9,
   "metadata": {
    "execution": {
     "iopub.execute_input": "2021-01-22T16:13:47.190342Z",
     "iopub.status.busy": "2021-01-22T16:13:47.189445Z",
     "iopub.status.idle": "2021-01-22T16:13:47.235789Z",
     "shell.execute_reply": "2021-01-22T16:13:47.236250Z"
    },
    "papermill": {
     "duration": 0.069358,
     "end_time": "2021-01-22T16:13:47.236404",
     "exception": false,
     "start_time": "2021-01-22T16:13:47.167046",
     "status": "completed"
    },
    "tags": []
   },
   "outputs": [
    {
     "name": "stdout",
     "output_type": "stream",
     "text": [
      "Accuracy of SVM: 0.896875\n"
     ]
    }
   ],
   "source": [
    "from sklearn.svm import SVC\n",
    "\n",
    "svm = SVC(random_state = 1)\n",
    "svm.fit(x_train,y_train)\n",
    "\n",
    "scores[\"SVM\"] = svm.score(x_test,y_test)\n",
    "\n",
    "print(\"Accuracy of SVM:\",svm.score(x_test,y_test))"
   ]
  },
  {
   "cell_type": "markdown",
   "metadata": {
    "papermill": {
     "duration": 0.014586,
     "end_time": "2021-01-22T16:13:47.266131",
     "exception": false,
     "start_time": "2021-01-22T16:13:47.251545",
     "status": "completed"
    },
    "tags": []
   },
   "source": [
    "# NAİVE BYES"
   ]
  },
  {
   "cell_type": "code",
   "execution_count": 10,
   "metadata": {
    "execution": {
     "iopub.execute_input": "2021-01-22T16:13:47.301316Z",
     "iopub.status.busy": "2021-01-22T16:13:47.300650Z",
     "iopub.status.idle": "2021-01-22T16:13:47.314380Z",
     "shell.execute_reply": "2021-01-22T16:13:47.315003Z"
    },
    "papermill": {
     "duration": 0.034203,
     "end_time": "2021-01-22T16:13:47.315207",
     "exception": false,
     "start_time": "2021-01-22T16:13:47.281004",
     "status": "completed"
    },
    "tags": []
   },
   "outputs": [
    {
     "name": "stdout",
     "output_type": "stream",
     "text": [
      "Accuracy of Navie Byes =  0.809375\n"
     ]
    }
   ],
   "source": [
    "from sklearn.naive_bayes import GaussianNB\n",
    "\n",
    "nb = GaussianNB()\n",
    "nb.fit(x_train,y_train)\n",
    "\n",
    "scores[\"NB\"] = nb.score(x_test,y_test)\n",
    "\n",
    "print(\"Accuracy of Navie Byes = \",nb.score(x_test,y_test))"
   ]
  },
  {
   "cell_type": "markdown",
   "metadata": {
    "papermill": {
     "duration": 0.015009,
     "end_time": "2021-01-22T16:13:47.346283",
     "exception": false,
     "start_time": "2021-01-22T16:13:47.331274",
     "status": "completed"
    },
    "tags": []
   },
   "source": [
    "# DECISION TREE CLASSIFIER"
   ]
  },
  {
   "cell_type": "code",
   "execution_count": 11,
   "metadata": {
    "execution": {
     "iopub.execute_input": "2021-01-22T16:13:47.383474Z",
     "iopub.status.busy": "2021-01-22T16:13:47.382777Z",
     "iopub.status.idle": "2021-01-22T16:13:47.433582Z",
     "shell.execute_reply": "2021-01-22T16:13:47.434049Z"
    },
    "papermill": {
     "duration": 0.07261,
     "end_time": "2021-01-22T16:13:47.434203",
     "exception": false,
     "start_time": "2021-01-22T16:13:47.361593",
     "status": "completed"
    },
    "tags": []
   },
   "outputs": [
    {
     "name": "stdout",
     "output_type": "stream",
     "text": [
      "Accuracy of Decision Tree =  0.809375\n"
     ]
    }
   ],
   "source": [
    "from sklearn.tree import DecisionTreeClassifier\n",
    "\n",
    "tr = DecisionTreeClassifier()\n",
    "tr.fit(x_train,y_train)\n",
    "\n",
    "scores[\"DecisionTree\"] = nb.score(x_test,y_test)\n",
    "\n",
    "print(\"Accuracy of Decision Tree = \",nb.score(x_test,y_test))"
   ]
  },
  {
   "cell_type": "markdown",
   "metadata": {
    "papermill": {
     "duration": 0.01546,
     "end_time": "2021-01-22T16:13:47.465526",
     "exception": false,
     "start_time": "2021-01-22T16:13:47.450066",
     "status": "completed"
    },
    "tags": []
   },
   "source": [
    "# RANDOM FOREST CLASSIFIER"
   ]
  },
  {
   "cell_type": "code",
   "execution_count": 12,
   "metadata": {
    "execution": {
     "iopub.execute_input": "2021-01-22T16:13:47.502987Z",
     "iopub.status.busy": "2021-01-22T16:13:47.502334Z",
     "iopub.status.idle": "2021-01-22T16:13:47.835103Z",
     "shell.execute_reply": "2021-01-22T16:13:47.834197Z"
    },
    "papermill": {
     "duration": 0.353892,
     "end_time": "2021-01-22T16:13:47.835306",
     "exception": false,
     "start_time": "2021-01-22T16:13:47.481414",
     "status": "completed"
    },
    "tags": []
   },
   "outputs": [
    {
     "name": "stdout",
     "output_type": "stream",
     "text": [
      "Accuracy of Random Forest: 0.921875\n"
     ]
    }
   ],
   "source": [
    "from sklearn.ensemble import RandomForestClassifier\n",
    "\n",
    "rf = RandomForestClassifier(n_estimators = 100,random_state = 1)\n",
    "rf.fit(x_train,y_train)\n",
    "\n",
    "scores[\"Random Forest\"] = rf.score(x_test,y_test)\n",
    "\n",
    "print(\"Accuracy of Random Forest:\",rf.score(x_test,y_test))\n"
   ]
  },
  {
   "cell_type": "markdown",
   "metadata": {
    "papermill": {
     "duration": 0.017242,
     "end_time": "2021-01-22T16:13:47.869978",
     "exception": false,
     "start_time": "2021-01-22T16:13:47.852736",
     "status": "completed"
    },
    "tags": []
   },
   "source": [
    "# K-MEANS"
   ]
  },
  {
   "cell_type": "code",
   "execution_count": 13,
   "metadata": {
    "execution": {
     "iopub.execute_input": "2021-01-22T16:13:47.908507Z",
     "iopub.status.busy": "2021-01-22T16:13:47.907928Z",
     "iopub.status.idle": "2021-01-22T16:13:51.367216Z",
     "shell.execute_reply": "2021-01-22T16:13:51.366479Z"
    },
    "papermill": {
     "duration": 3.480826,
     "end_time": "2021-01-22T16:13:51.367369",
     "exception": false,
     "start_time": "2021-01-22T16:13:47.886543",
     "status": "completed"
    },
    "tags": []
   },
   "outputs": [
    {
     "data": {
      "text/plain": [
       "Text(0, 0.5, 'wcss')"
      ]
     },
     "execution_count": 13,
     "metadata": {},
     "output_type": "execute_result"
    },
    {
     "data": {
      "image/png": "[encoded data removed]",
      "text/plain": [
       "<Figure size 432x288 with 1 Axes>"
      ]
     },
     "metadata": {
      "needs_background": "light"
     },
     "output_type": "display_data"
    }
   ],
   "source": [
    "from sklearn.cluster import KMeans\n",
    "\n",
    "wcss = []\n",
    "for k in range(1,20):\n",
    "    kmeans = KMeans(n_clusters=k)\n",
    "    kmeans.fit(data)\n",
    "    wcss.append(kmeans.inertia_)\n",
    "    \n",
    "plt.plot(range(1,20),wcss)\n",
    "plt.xlabel(\"number of k (cluster) value\")\n",
    "plt.ylabel(\"wcss\")"
   ]
  },
  {
   "cell_type": "markdown",
   "metadata": {
    "papermill": {
     "duration": 0.017145,
     "end_time": "2021-01-22T16:13:51.402454",
     "exception": false,
     "start_time": "2021-01-22T16:13:51.385309",
     "status": "completed"
    },
    "tags": []
   },
   "source": [
    "* The best cluster is 3"
   ]
  },
  {
   "cell_type": "code",
   "execution_count": 14,
   "metadata": {
    "execution": {
     "iopub.execute_input": "2021-01-22T16:13:51.447574Z",
     "iopub.status.busy": "2021-01-22T16:13:51.445281Z",
     "iopub.status.idle": "2021-01-22T16:13:51.514662Z",
     "shell.execute_reply": "2021-01-22T16:13:51.515397Z"
    },
    "papermill": {
     "duration": 0.095459,
     "end_time": "2021-01-22T16:13:51.515579",
     "exception": false,
     "start_time": "2021-01-22T16:13:51.420120",
     "status": "completed"
    },
    "tags": []
   },
   "outputs": [],
   "source": [
    "kmeans2 = KMeans(n_clusters=2)\n",
    "clusters = kmeans2.fit_predict(data)\n",
    "\n",
    "data[\"label\"] = clusters"
   ]
  },
  {
   "cell_type": "markdown",
   "metadata": {
    "papermill": {
     "duration": 0.025432,
     "end_time": "2021-01-22T16:13:51.567755",
     "exception": false,
     "start_time": "2021-01-22T16:13:51.542323",
     "status": "completed"
    },
    "tags": []
   },
   "source": [
    "* At least we can see which has most accuracy"
   ]
  },
  {
   "cell_type": "code",
   "execution_count": 15,
   "metadata": {
    "execution": {
     "iopub.execute_input": "2021-01-22T16:13:51.626457Z",
     "iopub.status.busy": "2021-01-22T16:13:51.625646Z",
     "iopub.status.idle": "2021-01-22T16:13:51.629956Z",
     "shell.execute_reply": "2021-01-22T16:13:51.629311Z"
    },
    "papermill": {
     "duration": 0.035924,
     "end_time": "2021-01-22T16:13:51.630097",
     "exception": false,
     "start_time": "2021-01-22T16:13:51.594173",
     "status": "completed"
    },
    "tags": []
   },
   "outputs": [
    {
     "data": {
      "text/plain": [
       "{'Linear_Regression': 0.878125,\n",
       " 'KNN': 0.90625,\n",
       " 'SVM': 0.896875,\n",
       " 'NB': 0.809375,\n",
       " 'DecisionTree': 0.809375,\n",
       " 'Random Forest': 0.921875}"
      ]
     },
     "execution_count": 15,
     "metadata": {},
     "output_type": "execute_result"
    }
   ],
   "source": [
    "scores"
   ]
  }
 ],
 "metadata": {
  "kernelspec": {
   "display_name": "Python 3",
   "language": "python",
   "name": "python3"
  },
  "language_info": {
   "codemirror_mode": {
    "name": "ipython",
    "version": 3
   },
   "file_extension": ".py",
   "mimetype": "text/x-python",
   "name": "python",
   "nbconvert_exporter": "python",
   "pygments_lexer": "ipython3",
   "version": "3.7.6"
  },
  "papermill": {
   "duration": 14.268342,
   "end_time": "2021-01-22T16:13:51.765661",
   "environment_variables": {},
   "exception": null,
   "input_path": "__notebook__.ipynb",
   "output_path": "__notebook__.ipynb",
   "parameters": {},
   "start_time": "2021-01-22T16:13:37.497319",
   "version": "2.1.0"
  }
 },
 "nbformat": 4,
 "nbformat_minor": 4
}
